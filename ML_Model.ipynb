{
 "cells": [
  {
   "cell_type": "markdown",
   "id": "07ca814e",
   "metadata": {},
   "source": [
    "# Loading the Dataset"
   ]
  },
  {
   "cell_type": "code",
   "execution_count": 14,
   "id": "9e74b593",
   "metadata": {},
   "outputs": [
    {
     "data": {
      "text/html": [
       "<div>\n",
       "<style scoped>\n",
       "    .dataframe tbody tr th:only-of-type {\n",
       "        vertical-align: middle;\n",
       "    }\n",
       "\n",
       "    .dataframe tbody tr th {\n",
       "        vertical-align: top;\n",
       "    }\n",
       "\n",
       "    .dataframe thead th {\n",
       "        text-align: right;\n",
       "    }\n",
       "</style>\n",
       "<table border=\"1\" class=\"dataframe\">\n",
       "  <thead>\n",
       "    <tr style=\"text-align: right;\">\n",
       "      <th></th>\n",
       "      <th>Supplier</th>\n",
       "      <th>Year</th>\n",
       "      <th>Scope 1 Emissions</th>\n",
       "      <th>Scope 2 Emissions</th>\n",
       "      <th>Scope 3 Emissions</th>\n",
       "      <th>Total Emissions</th>\n",
       "      <th>Performance</th>\n",
       "      <th>Target Set</th>\n",
       "      <th>Reduction Initiatives</th>\n",
       "      <th>First Year</th>\n",
       "      <th>Target Year</th>\n",
       "    </tr>\n",
       "  </thead>\n",
       "  <tbody>\n",
       "    <tr>\n",
       "      <th>0</th>\n",
       "      <td>Fabrinet</td>\n",
       "      <td>2022</td>\n",
       "      <td>4379.0</td>\n",
       "      <td>88721.0</td>\n",
       "      <td>17593.0</td>\n",
       "      <td>110693.0</td>\n",
       "      <td>Increased</td>\n",
       "      <td>Intensity Target</td>\n",
       "      <td>Yes</td>\n",
       "      <td>No</td>\n",
       "      <td>2030.0</td>\n",
       "    </tr>\n",
       "    <tr>\n",
       "      <th>1</th>\n",
       "      <td>Fabrinet</td>\n",
       "      <td>2021</td>\n",
       "      <td>1705.0</td>\n",
       "      <td>76024.0</td>\n",
       "      <td>15060.0</td>\n",
       "      <td>92789.0</td>\n",
       "      <td>Increased</td>\n",
       "      <td>Intensity Target</td>\n",
       "      <td>Yes</td>\n",
       "      <td>No</td>\n",
       "      <td>2030.0</td>\n",
       "    </tr>\n",
       "    <tr>\n",
       "      <th>2</th>\n",
       "      <td>Fabrinet</td>\n",
       "      <td>2020</td>\n",
       "      <td>1911.0</td>\n",
       "      <td>66230.0</td>\n",
       "      <td>0.0</td>\n",
       "      <td>68141.0</td>\n",
       "      <td>NaN</td>\n",
       "      <td>Intensity Target</td>\n",
       "      <td>No</td>\n",
       "      <td>Yes</td>\n",
       "      <td>2030.0</td>\n",
       "    </tr>\n",
       "    <tr>\n",
       "      <th>3</th>\n",
       "      <td>Lumentum</td>\n",
       "      <td>2022</td>\n",
       "      <td>6328.0</td>\n",
       "      <td>96379.0</td>\n",
       "      <td>44053.0</td>\n",
       "      <td>146760.0</td>\n",
       "      <td>Increased</td>\n",
       "      <td>Absolute Target</td>\n",
       "      <td>Yes</td>\n",
       "      <td>No</td>\n",
       "      <td>NaN</td>\n",
       "    </tr>\n",
       "    <tr>\n",
       "      <th>4</th>\n",
       "      <td>Lumentum</td>\n",
       "      <td>2021</td>\n",
       "      <td>7857.0</td>\n",
       "      <td>87857.0</td>\n",
       "      <td>43117.0</td>\n",
       "      <td>138831.0</td>\n",
       "      <td>Increased</td>\n",
       "      <td>Absolute Target</td>\n",
       "      <td>Yes</td>\n",
       "      <td>No</td>\n",
       "      <td>NaN</td>\n",
       "    </tr>\n",
       "  </tbody>\n",
       "</table>\n",
       "</div>"
      ],
      "text/plain": [
       "   Supplier  Year  Scope 1 Emissions  Scope 2 Emissions  Scope 3 Emissions  \\\n",
       "0  Fabrinet  2022             4379.0            88721.0            17593.0   \n",
       "1  Fabrinet  2021             1705.0            76024.0            15060.0   \n",
       "2  Fabrinet  2020             1911.0            66230.0                0.0   \n",
       "3  Lumentum  2022             6328.0            96379.0            44053.0   \n",
       "4  Lumentum  2021             7857.0            87857.0            43117.0   \n",
       "\n",
       "   Total Emissions Performance        Target Set Reduction Initiatives  \\\n",
       "0         110693.0   Increased  Intensity Target                   Yes   \n",
       "1          92789.0   Increased  Intensity Target                   Yes   \n",
       "2          68141.0         NaN  Intensity Target                    No   \n",
       "3         146760.0   Increased   Absolute Target                   Yes   \n",
       "4         138831.0   Increased   Absolute Target                   Yes   \n",
       "\n",
       "  First Year  Target Year  \n",
       "0         No       2030.0  \n",
       "1         No       2030.0  \n",
       "2        Yes       2030.0  \n",
       "3         No          NaN  \n",
       "4         No          NaN  "
      ]
     },
     "execution_count": 14,
     "metadata": {},
     "output_type": "execute_result"
    }
   ],
   "source": [
    "import pandas as pd\n",
    "\n",
    "# Load the dataset\n",
    "file_path = '/Users/siddhesh/Downloads/generated_emissions_data.csv'\n",
    "data = pd.read_csv(file_path)\n",
    "\n",
    "# Display the first few rows of the dataset to understand its structure and contents\n",
    "data.head()\n"
   ]
  },
  {
   "cell_type": "markdown",
   "id": "5202a0b4",
   "metadata": {},
   "source": [
    "# Data Preprocessing"
   ]
  },
  {
   "cell_type": "code",
   "execution_count": 15,
   "id": "8664693c",
   "metadata": {},
   "outputs": [],
   "source": [
    "# Step 1: Data Preprocessing\n",
    "\n",
    "# Filter out the latest year for each supplier\n",
    "latest_data = data.sort_values(by=['Supplier', 'Year']).groupby('Supplier').last().reset_index()\n",
    "\n",
    "# Feature Engineering: Calculate the average and growth rate of past emissions\n",
    "# Calculate average emissions for each supplier\n",
    "average_emissions = data.groupby('Supplier')['Total Emissions'].mean().reset_index()\n",
    "average_emissions.rename(columns={'Total Emissions': 'Average Emissions'}, inplace=True)\n",
    "\n",
    "# Calculate growth rate of emissions (year over year)\n",
    "data_sorted = data.sort_values(by=['Supplier', 'Year'])\n",
    "data_sorted['Emissions Growth'] = data_sorted.groupby('Supplier')['Total Emissions'].pct_change()\n",
    "growth_rate = data_sorted.groupby('Supplier')['Emissions Growth'].mean().reset_index()\n",
    "\n",
    "# Merge these features with the latest data\n",
    "model_data = pd.merge(latest_data, average_emissions, on='Supplier')\n",
    "model_data = pd.merge(model_data, growth_rate, on='Supplier')\n",
    "\n",
    "# Encode categorical variables\n",
    "model_data_encoded = pd.get_dummies(model_data, columns=['Performance', 'Target Set', 'Reduction Initiatives', 'First Year'])\n",
    "\n",
    "# Drop columns not used in prediction\n",
    "model_data_encoded.drop(columns=['Supplier', 'Year'], inplace=True)"
   ]
  },
  {
   "cell_type": "markdown",
   "id": "9e6293a8",
   "metadata": {},
   "source": [
    "# Feature Selection"
   ]
  },
  {
   "cell_type": "code",
   "execution_count": 16,
   "id": "5de096cc",
   "metadata": {},
   "outputs": [],
   "source": [
    "# Step 2: Feature Selection\n",
    "# Using all the columns except 'Total Emissions' as features and 'Total Emissions' as the target variable\n",
    "X = model_data_encoded.drop('Total Emissions', axis=1)\n",
    "y = model_data_encoded['Total Emissions']"
   ]
  },
  {
   "cell_type": "markdown",
   "id": "a4140757",
   "metadata": {},
   "source": [
    "# Model Selection"
   ]
  },
  {
   "cell_type": "code",
   "execution_count": 17,
   "id": "eb238707",
   "metadata": {},
   "outputs": [],
   "source": [
    "# Step 3: Model Selection\n",
    "# Using RandomForestRegressor as the model\n",
    "model = RandomForestRegressor(n_estimators=100, random_state=42)"
   ]
  },
  {
   "cell_type": "markdown",
   "id": "65706db6",
   "metadata": {},
   "source": [
    "# Training the Model"
   ]
  },
  {
   "cell_type": "code",
   "execution_count": 18,
   "id": "ec90061d",
   "metadata": {},
   "outputs": [
    {
     "data": {
      "text/plain": [
       "RandomForestRegressor(random_state=42)"
      ]
     },
     "execution_count": 18,
     "metadata": {},
     "output_type": "execute_result"
    }
   ],
   "source": [
    "# Step 4: Training the Model\n",
    "# Splitting the data into training and testing sets\n",
    "X_train, X_test, y_train, y_test = train_test_split(X, y, test_size=0.2, random_state=42)\n",
    "model.fit(X_train, y_train)"
   ]
  },
  {
   "cell_type": "markdown",
   "id": "13d1306f",
   "metadata": {},
   "source": [
    "# Model Evaluation"
   ]
  },
  {
   "cell_type": "code",
   "execution_count": 19,
   "id": "6e289940",
   "metadata": {},
   "outputs": [
    {
     "data": {
      "text/plain": [
       "(427439.7831264296, 0.7643056050062453)"
      ]
     },
     "execution_count": 19,
     "metadata": {},
     "output_type": "execute_result"
    }
   ],
   "source": [
    "# Step 5: Model Evaluation\n",
    "y_pred = model.predict(X_test)\n",
    "rmse = np.sqrt(mean_squared_error(y_test, y_pred))\n",
    "r2 = r2_score(y_test, y_pred)\n",
    "\n",
    "rmse, r2"
   ]
  },
  {
   "cell_type": "markdown",
   "id": "9e531520",
   "metadata": {},
   "source": [
    "# Testing on Different Models"
   ]
  },
  {
   "cell_type": "code",
   "execution_count": 20,
   "id": "26da274d",
   "metadata": {},
   "outputs": [
    {
     "data": {
      "text/plain": [
       "{'Linear Regression': {'RMSE': 5.809112894290429e-10,\n",
       "  'R^2': 1.0,\n",
       "  'MAE': 5.238689482212067e-10,\n",
       "  'MAPE': 2.4912612022208228e-14},\n",
       " 'Random Forest Regression': {'RMSE': 427439.7831264296,\n",
       "  'R^2': 0.7643056050062453,\n",
       "  'MAE': 354818.051,\n",
       "  'MAPE': 16.268675032928957},\n",
       " 'Gradient Boosting Regression': {'RMSE': 269217.66836796515,\n",
       "  'R^2': 0.9065011024019931,\n",
       "  'MAE': 241607.76003493936,\n",
       "  'MAPE': 9.936219720954417},\n",
       " 'Support Vector Regression': {'RMSE': 887364.5258387093,\n",
       "  'R^2': -0.015788984729105504,\n",
       "  'MAE': 738083.5102835987,\n",
       "  'MAPE': 40.4602245170201}}"
      ]
     },
     "execution_count": 20,
     "metadata": {},
     "output_type": "execute_result"
    }
   ],
   "source": [
    "from sklearn.linear_model import LinearRegression\n",
    "from sklearn.ensemble import GradientBoostingRegressor\n",
    "from sklearn.svm import SVR\n",
    "from sklearn.metrics import mean_absolute_error\n",
    "\n",
    "# Initialize different regression models\n",
    "models = {\n",
    "    'Linear Regression': LinearRegression(),\n",
    "    'Random Forest Regression': RandomForestRegressor(n_estimators=100, random_state=42),\n",
    "    'Gradient Boosting Regression': GradientBoostingRegressor(n_estimators=100, random_state=42),\n",
    "    'Support Vector Regression': SVR()\n",
    "}\n",
    "\n",
    "# Function to evaluate a model\n",
    "def evaluate_model(model, X_train, X_test, y_train, y_test):\n",
    "    model.fit(X_train, y_train)\n",
    "    y_pred = model.predict(X_test)\n",
    "    rmse = np.sqrt(mean_squared_error(y_test, y_pred))\n",
    "    r2 = r2_score(y_test, y_pred)\n",
    "    mae = mean_absolute_error(y_test, y_pred)\n",
    "    mape = np.mean(np.abs((y_test - y_pred) / y_test)) * 100\n",
    "    return rmse, r2, mae, mape\n",
    "\n",
    "# Evaluate each model\n",
    "model_performance = {}\n",
    "for name, model in models.items():\n",
    "    rmse, r2, mae, mape = evaluate_model(model, X_train, X_test, y_train, y_test)\n",
    "    model_performance[name] = {\n",
    "        'RMSE': rmse,\n",
    "        'R^2': r2,\n",
    "        'MAE': mae,\n",
    "        'MAPE': mape\n",
    "    }\n",
    "\n",
    "model_performance\n",
    "\n"
   ]
  },
  {
   "cell_type": "markdown",
   "id": "3d08cfcf",
   "metadata": {},
   "source": [
    "# Feature Importance"
   ]
  },
  {
   "cell_type": "code",
   "execution_count": 21,
   "id": "c4c0fcd6",
   "metadata": {},
   "outputs": [
    {
     "data": {
      "text/html": [
       "<div>\n",
       "<style scoped>\n",
       "    .dataframe tbody tr th:only-of-type {\n",
       "        vertical-align: middle;\n",
       "    }\n",
       "\n",
       "    .dataframe tbody tr th {\n",
       "        vertical-align: top;\n",
       "    }\n",
       "\n",
       "    .dataframe thead th {\n",
       "        text-align: right;\n",
       "    }\n",
       "</style>\n",
       "<table border=\"1\" class=\"dataframe\">\n",
       "  <thead>\n",
       "    <tr style=\"text-align: right;\">\n",
       "      <th></th>\n",
       "      <th>Linear Regression</th>\n",
       "      <th>Random Forest</th>\n",
       "      <th>Gradient Boosting</th>\n",
       "      <th>Random Forest (Permutation)</th>\n",
       "      <th>Gradient Boosting (Permutation)</th>\n",
       "    </tr>\n",
       "  </thead>\n",
       "  <tbody>\n",
       "    <tr>\n",
       "      <th>Scope 1 Emissions</th>\n",
       "      <td>1.000000e+00</td>\n",
       "      <td>0.040660</td>\n",
       "      <td>0.025560</td>\n",
       "      <td>0.044652</td>\n",
       "      <td>0.050298</td>\n",
       "    </tr>\n",
       "    <tr>\n",
       "      <th>Scope 2 Emissions</th>\n",
       "      <td>1.000000e+00</td>\n",
       "      <td>0.109272</td>\n",
       "      <td>0.151035</td>\n",
       "      <td>0.231255</td>\n",
       "      <td>0.367282</td>\n",
       "    </tr>\n",
       "    <tr>\n",
       "      <th>Scope 3 Emissions</th>\n",
       "      <td>1.000000e+00</td>\n",
       "      <td>0.766966</td>\n",
       "      <td>0.800809</td>\n",
       "      <td>1.075591</td>\n",
       "      <td>1.048109</td>\n",
       "    </tr>\n",
       "    <tr>\n",
       "      <th>Target Year</th>\n",
       "      <td>1.941165e-11</td>\n",
       "      <td>0.015995</td>\n",
       "      <td>0.001074</td>\n",
       "      <td>-0.008151</td>\n",
       "      <td>0.000276</td>\n",
       "    </tr>\n",
       "    <tr>\n",
       "      <th>Average Emissions</th>\n",
       "      <td>1.665335e-16</td>\n",
       "      <td>0.012343</td>\n",
       "      <td>0.009468</td>\n",
       "      <td>-0.005740</td>\n",
       "      <td>-0.013117</td>\n",
       "    </tr>\n",
       "    <tr>\n",
       "      <th>Emissions Growth</th>\n",
       "      <td>-1.418521e-11</td>\n",
       "      <td>0.021657</td>\n",
       "      <td>0.010203</td>\n",
       "      <td>-0.012817</td>\n",
       "      <td>0.002038</td>\n",
       "    </tr>\n",
       "    <tr>\n",
       "      <th>Performance_Decreased</th>\n",
       "      <td>1.272180e-10</td>\n",
       "      <td>0.001539</td>\n",
       "      <td>0.000492</td>\n",
       "      <td>-0.000754</td>\n",
       "      <td>0.000842</td>\n",
       "    </tr>\n",
       "    <tr>\n",
       "      <th>Performance_Increased</th>\n",
       "      <td>-6.522149e-11</td>\n",
       "      <td>0.001090</td>\n",
       "      <td>0.000009</td>\n",
       "      <td>-0.001059</td>\n",
       "      <td>0.000019</td>\n",
       "    </tr>\n",
       "    <tr>\n",
       "      <th>Performance_na</th>\n",
       "      <td>-6.199651e-11</td>\n",
       "      <td>0.002582</td>\n",
       "      <td>0.000138</td>\n",
       "      <td>-0.005618</td>\n",
       "      <td>0.000385</td>\n",
       "    </tr>\n",
       "    <tr>\n",
       "      <th>Target Set_Absolute Target</th>\n",
       "      <td>8.147737e-11</td>\n",
       "      <td>0.001251</td>\n",
       "      <td>0.000011</td>\n",
       "      <td>0.000461</td>\n",
       "      <td>-0.000172</td>\n",
       "    </tr>\n",
       "    <tr>\n",
       "      <th>Target Set_Intensity Target</th>\n",
       "      <td>-1.114122e-10</td>\n",
       "      <td>0.014231</td>\n",
       "      <td>0.000266</td>\n",
       "      <td>0.002346</td>\n",
       "      <td>0.000301</td>\n",
       "    </tr>\n",
       "    <tr>\n",
       "      <th>Target Set_No Target</th>\n",
       "      <td>2.993487e-11</td>\n",
       "      <td>0.008350</td>\n",
       "      <td>0.000038</td>\n",
       "      <td>0.005854</td>\n",
       "      <td>-0.000012</td>\n",
       "    </tr>\n",
       "    <tr>\n",
       "      <th>Reduction Initiatives_No</th>\n",
       "      <td>1.387513e-11</td>\n",
       "      <td>0.002731</td>\n",
       "      <td>0.000212</td>\n",
       "      <td>-0.002412</td>\n",
       "      <td>-0.000348</td>\n",
       "    </tr>\n",
       "    <tr>\n",
       "      <th>Reduction Initiatives_Yes</th>\n",
       "      <td>-1.387513e-11</td>\n",
       "      <td>0.001333</td>\n",
       "      <td>0.000685</td>\n",
       "      <td>-0.002020</td>\n",
       "      <td>-0.001139</td>\n",
       "    </tr>\n",
       "    <tr>\n",
       "      <th>First Year_No</th>\n",
       "      <td>0.000000e+00</td>\n",
       "      <td>0.000000</td>\n",
       "      <td>0.000000</td>\n",
       "      <td>0.000000</td>\n",
       "      <td>0.000000</td>\n",
       "    </tr>\n",
       "  </tbody>\n",
       "</table>\n",
       "</div>"
      ],
      "text/plain": [
       "                             Linear Regression  Random Forest  \\\n",
       "Scope 1 Emissions                 1.000000e+00       0.040660   \n",
       "Scope 2 Emissions                 1.000000e+00       0.109272   \n",
       "Scope 3 Emissions                 1.000000e+00       0.766966   \n",
       "Target Year                       1.941165e-11       0.015995   \n",
       "Average Emissions                 1.665335e-16       0.012343   \n",
       "Emissions Growth                 -1.418521e-11       0.021657   \n",
       "Performance_Decreased             1.272180e-10       0.001539   \n",
       "Performance_Increased            -6.522149e-11       0.001090   \n",
       "Performance_na                   -6.199651e-11       0.002582   \n",
       "Target Set_Absolute Target        8.147737e-11       0.001251   \n",
       "Target Set_Intensity Target      -1.114122e-10       0.014231   \n",
       "Target Set_No Target              2.993487e-11       0.008350   \n",
       "Reduction Initiatives_No          1.387513e-11       0.002731   \n",
       "Reduction Initiatives_Yes        -1.387513e-11       0.001333   \n",
       "First Year_No                     0.000000e+00       0.000000   \n",
       "\n",
       "                             Gradient Boosting  Random Forest (Permutation)  \\\n",
       "Scope 1 Emissions                     0.025560                     0.044652   \n",
       "Scope 2 Emissions                     0.151035                     0.231255   \n",
       "Scope 3 Emissions                     0.800809                     1.075591   \n",
       "Target Year                           0.001074                    -0.008151   \n",
       "Average Emissions                     0.009468                    -0.005740   \n",
       "Emissions Growth                      0.010203                    -0.012817   \n",
       "Performance_Decreased                 0.000492                    -0.000754   \n",
       "Performance_Increased                 0.000009                    -0.001059   \n",
       "Performance_na                        0.000138                    -0.005618   \n",
       "Target Set_Absolute Target            0.000011                     0.000461   \n",
       "Target Set_Intensity Target           0.000266                     0.002346   \n",
       "Target Set_No Target                  0.000038                     0.005854   \n",
       "Reduction Initiatives_No              0.000212                    -0.002412   \n",
       "Reduction Initiatives_Yes             0.000685                    -0.002020   \n",
       "First Year_No                         0.000000                     0.000000   \n",
       "\n",
       "                             Gradient Boosting (Permutation)  \n",
       "Scope 1 Emissions                                   0.050298  \n",
       "Scope 2 Emissions                                   0.367282  \n",
       "Scope 3 Emissions                                   1.048109  \n",
       "Target Year                                         0.000276  \n",
       "Average Emissions                                  -0.013117  \n",
       "Emissions Growth                                    0.002038  \n",
       "Performance_Decreased                               0.000842  \n",
       "Performance_Increased                               0.000019  \n",
       "Performance_na                                      0.000385  \n",
       "Target Set_Absolute Target                         -0.000172  \n",
       "Target Set_Intensity Target                         0.000301  \n",
       "Target Set_No Target                               -0.000012  \n",
       "Reduction Initiatives_No                           -0.000348  \n",
       "Reduction Initiatives_Yes                          -0.001139  \n",
       "First Year_No                                       0.000000  "
      ]
     },
     "execution_count": 21,
     "metadata": {},
     "output_type": "execute_result"
    }
   ],
   "source": [
    "from sklearn.inspection import permutation_importance\n",
    "\n",
    "# Train and get feature importances for Linear Regression, Random Forest, and Gradient Boosting\n",
    "lr_model = LinearRegression().fit(X_train, y_train)\n",
    "rf_model = RandomForestRegressor(n_estimators=100, random_state=42).fit(X_train, y_train)\n",
    "gb_model = GradientBoostingRegressor(n_estimators=100, random_state=42).fit(X_train, y_train)\n",
    "\n",
    "# Get feature importances\n",
    "lr_importance = lr_model.coef_\n",
    "rf_importance = rf_model.feature_importances_\n",
    "gb_importance = gb_model.feature_importances_\n",
    "\n",
    "# For Random Forest and Gradient Boosting, we can also use permutation importance for a more reliable measure\n",
    "rf_perm_importance = permutation_importance(rf_model, X_test, y_test, n_repeats=30, random_state=42)\n",
    "gb_perm_importance = permutation_importance(gb_model, X_test, y_test, n_repeats=30, random_state=42)\n",
    "\n",
    "# Organizing the feature importance data\n",
    "feature_names = X.columns\n",
    "feature_importance_data = {\n",
    "    'Linear Regression': lr_importance,\n",
    "    'Random Forest': rf_importance,\n",
    "    'Gradient Boosting': gb_importance,\n",
    "    'Random Forest (Permutation)': rf_perm_importance.importances_mean,\n",
    "    'Gradient Boosting (Permutation)': gb_perm_importance.importances_mean\n",
    "}\n",
    "\n",
    "# Creating a DataFrame for better visualization\n",
    "feature_importance_df = pd.DataFrame(feature_importance_data, index=feature_names)\n",
    "\n",
    "feature_importance_df\n",
    "\n"
   ]
  },
  {
   "cell_type": "markdown",
   "id": "310aa194",
   "metadata": {},
   "source": [
    "# Model Improvement"
   ]
  },
  {
   "cell_type": "code",
   "execution_count": 22,
   "id": "bf4fd850",
   "metadata": {
    "scrolled": true
   },
   "outputs": [
    {
     "name": "stdout",
     "output_type": "stream",
     "text": [
      "Best Parameters: {'learning_rate': 0.1, 'max_depth': 3, 'n_estimators': 300}\n",
      "Best RMSE: 387492.49366649246\n"
     ]
    }
   ],
   "source": [
    "from sklearn.model_selection import GridSearchCV\n",
    "from sklearn.ensemble import GradientBoostingRegressor\n",
    "import numpy as np\n",
    "\n",
    "# Setting up hyperparameter grid for tuning\n",
    "param_grid = {\n",
    "    'n_estimators': [100, 200, 300],  # Number of boosting stages to be run\n",
    "    'max_depth': [3, 4, 5],  # Maximum depth of the individual regression estimators\n",
    "    'learning_rate': [0.01, 0.1, 0.2]  # Learning rate shrinks the contribution of each tree\n",
    "}\n",
    "\n",
    "# Initialize the Gradient Boosting Regressor\n",
    "gb_reg = GradientBoostingRegressor(random_state=42)\n",
    "\n",
    "# Setting up GridSearchCV for hyperparameter tuning with cross-validation\n",
    "grid_search = GridSearchCV(estimator=gb_reg, param_grid=param_grid, cv=3, n_jobs=-1, scoring='neg_mean_squared_error')\n",
    "\n",
    "# Fit the grid search to the data (replace X_train and y_train with your training data)\n",
    "grid_search.fit(X_train, y_train)\n",
    "\n",
    "# Getting the best parameters and the corresponding RMSE\n",
    "best_params = grid_search.best_params_\n",
    "best_rmse = np.sqrt(-grid_search.best_score_)\n",
    "\n",
    "print(\"Best Parameters:\", best_params)\n",
    "print(\"Best RMSE:\", best_rmse)\n"
   ]
  },
  {
   "cell_type": "code",
   "execution_count": 24,
   "id": "88034f27",
   "metadata": {},
   "outputs": [
    {
     "data": {
      "text/plain": [
       "GradientBoostingRegressor(n_estimators=300, random_state=42)"
      ]
     },
     "execution_count": 24,
     "metadata": {},
     "output_type": "execute_result"
    }
   ],
   "source": [
    "# Retrain the model with the best parameters\n",
    "optimized_gb_reg = GradientBoostingRegressor(\n",
    "    learning_rate=0.1,\n",
    "    max_depth=3,\n",
    "    n_estimators=300,\n",
    "    random_state=42\n",
    ")\n",
    "\n",
    "optimized_gb_reg.fit(X_train, y_train)"
   ]
  },
  {
   "cell_type": "markdown",
   "id": "ba16a17f",
   "metadata": {},
   "source": [
    "# Final Results"
   ]
  },
  {
   "cell_type": "code",
   "execution_count": 25,
   "id": "30da1a7c",
   "metadata": {},
   "outputs": [
    {
     "name": "stdout",
     "output_type": "stream",
     "text": [
      "RMSE on Test Set: 269073.380992264\n",
      "R-squared on Test Set: 0.9066012971289573\n"
     ]
    }
   ],
   "source": [
    "# Evaluate the model on the test set\n",
    "y_pred = optimized_gb_reg.predict(X_test)\n",
    "rmse = np.sqrt(mean_squared_error(y_test, y_pred))\n",
    "r2 = r2_score(y_test, y_pred)\n",
    "\n",
    "print(\"RMSE on Test Set:\", rmse)\n",
    "print(\"R-squared on Test Set:\", r2)"
   ]
  },
  {
   "cell_type": "markdown",
   "id": "94f15eee",
   "metadata": {},
   "source": [
    "# Prediction"
   ]
  },
  {
   "cell_type": "code",
   "execution_count": 26,
   "id": "c9885bc6",
   "metadata": {},
   "outputs": [
    {
     "name": "stdout",
     "output_type": "stream",
     "text": [
      "Supplier: Supplier_3\n",
      "Predicted Emissions: 2766609.358516167\n",
      "Actual Emissions: 2622841.0\n"
     ]
    }
   ],
   "source": [
    "# Select a supplier for demonstration\n",
    "selected_supplier = 'Supplier_3'  # Replace with your chosen supplier's name\n",
    "\n",
    "# Preparing the input data for the selected supplier\n",
    "# Extracting the most recent year data for this supplier (excluding the target variable)\n",
    "supplier_data = data[data['Supplier'] == selected_supplier].sort_values(by='Year', ascending=False)\n",
    "latest_supplier_data = supplier_data.iloc[0].drop(['Supplier', 'Year', 'Total Emissions'])\n",
    "\n",
    "# Encoding categorical variables and aligning with the model's features\n",
    "latest_supplier_data_encoded = pd.get_dummies(pd.DataFrame([latest_supplier_data]), columns=['Performance', 'Target Set', 'Reduction Initiatives', 'First Year'])\n",
    "latest_supplier_data_encoded = latest_supplier_data_encoded.reindex(columns=X_train.columns, fill_value=0)\n",
    "\n",
    "# Make a prediction using the optimized model\n",
    "predicted_emissions = optimized_gb_reg.predict(latest_supplier_data_encoded)\n",
    "\n",
    "# Retrieve the actual emissions for the selected supplier for the latest year\n",
    "actual_emissions = supplier_data.iloc[0]['Total Emissions']\n",
    "\n",
    "# Displaying the predicted and actual emissions\n",
    "print(\"Supplier:\", selected_supplier)\n",
    "print(\"Predicted Emissions:\", predicted_emissions[0])\n",
    "print(\"Actual Emissions:\", actual_emissions)\n"
   ]
  }
 ],
 "metadata": {
  "kernelspec": {
   "display_name": "Python 3 (ipykernel)",
   "language": "python",
   "name": "python3"
  },
  "language_info": {
   "codemirror_mode": {
    "name": "ipython",
    "version": 3
   },
   "file_extension": ".py",
   "mimetype": "text/x-python",
   "name": "python",
   "nbconvert_exporter": "python",
   "pygments_lexer": "ipython3",
   "version": "3.9.13"
  }
 },
 "nbformat": 4,
 "nbformat_minor": 5
}
